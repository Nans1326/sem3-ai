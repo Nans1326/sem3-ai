{
  "nbformat": 4,
  "nbformat_minor": 0,
  "metadata": {
    "colab": {
      "provenance": []
    },
    "kernelspec": {
      "name": "python3",
      "display_name": "Python 3"
    },
    "language_info": {
      "name": "python"
    }
  },
  "cells": [
    {
      "cell_type": "markdown",
      "source": [],
      "metadata": {
        "id": "d2uotbqyUk7p"
      }
    },
    {
      "cell_type": "code",
      "source": [
        "import numpy as np\n",
        "empty_array = np.empty((2,2))\n",
        "print (empty_array)"
      ],
      "metadata": {
        "colab": {
          "base_uri": "https://localhost:8080/"
        },
        "id": "Ip0ekq3FWLaU",
        "outputId": "ca495490-86c5-4787-c067-dbe15c2e62b7"
      },
      "execution_count": null,
      "outputs": [
        {
          "output_type": "stream",
          "name": "stdout",
          "text": [
            "[[4.87143841e-310 0.00000000e+000]\n",
            " [6.58136995e-310 4.87067457e-310]]\n"
          ]
        }
      ]
    },
    {
      "cell_type": "code",
      "source": [
        "import numpy as np\n",
        "ones_array = np.ones((4,2))\n",
        "print ((ones_array))"
      ],
      "metadata": {
        "colab": {
          "base_uri": "https://localhost:8080/"
        },
        "id": "GHE2IVTOXYlR",
        "outputId": "0d4fd009-c6a6-40dd-b720-73774e6c1ed1"
      },
      "execution_count": null,
      "outputs": [
        {
          "output_type": "stream",
          "name": "stdout",
          "text": [
            "[[1. 1.]\n",
            " [1. 1.]\n",
            " [1. 1.]\n",
            " [1. 1.]]\n"
          ]
        }
      ]
    },
    {
      "cell_type": "code",
      "source": [
        "import numpy as np\n",
        "filled_array = np.full((4,2),7,dtype=int)\n",
        "print(filled_array)"
      ],
      "metadata": {
        "colab": {
          "base_uri": "https://localhost:8080/"
        },
        "id": "ApY7i_I2aShj",
        "outputId": "ec7966e1-182c-41e8-cdb9-230344774721"
      },
      "execution_count": null,
      "outputs": [
        {
          "output_type": "stream",
          "name": "stdout",
          "text": [
            "[[7 7]\n",
            " [7 7]\n",
            " [7 7]\n",
            " [7 7]]\n"
          ]
        }
      ]
    },
    {
      "cell_type": "code",
      "source": [
        "import numpy as np\n",
        "zeros_array = np.zeros_like(filled_array)\n",
        "print(zeros_array)\n"
      ],
      "metadata": {
        "colab": {
          "base_uri": "https://localhost:8080/"
        },
        "id": "JB9E01kRa5tl",
        "outputId": "cd5786d8-3027-416b-f1bb-6a3e2816fc9c"
      },
      "execution_count": null,
      "outputs": [
        {
          "output_type": "stream",
          "name": "stdout",
          "text": [
            "[[0 0]\n",
            " [0 0]\n",
            " [0 0]\n",
            " [0 0]]\n"
          ]
        }
      ]
    },
    {
      "cell_type": "code",
      "source": [
        "import numpy as np\n",
        "ones_array = np.ones_like(filled_array)\n",
        "print(ones_array)"
      ],
      "metadata": {
        "colab": {
          "base_uri": "https://localhost:8080/"
        },
        "id": "dxaNXyR8bh_C",
        "outputId": "b133096f-353d-46c7-a5f2-eee396583d33"
      },
      "execution_count": null,
      "outputs": [
        {
          "output_type": "stream",
          "name": "stdout",
          "text": [
            "[[1 1]\n",
            " [1 1]\n",
            " [1 1]\n",
            " [1 1]]\n"
          ]
        }
      ]
    },
    {
      "cell_type": "code",
      "source": [
        "import numpy as np\n",
        "new_list = [1,2,3,4]\n",
        "new_array = np.array(new_list)\n",
        "print(new_array)"
      ],
      "metadata": {
        "colab": {
          "base_uri": "https://localhost:8080/"
        },
        "id": "Vw3Uc__Qb0zm",
        "outputId": "a5911de7-7cd5-4636-ad7d-55c7e6523dd5"
      },
      "execution_count": null,
      "outputs": [
        {
          "output_type": "stream",
          "name": "stdout",
          "text": [
            "[1 2 3 4]\n"
          ]
        }
      ]
    },
    {
      "cell_type": "code",
      "source": [
        "import numpy as np\n",
        "\n",
        "original_array = np.array([[1, 2, 3], [4, 5, 6]], dtype=np.int32)\n",
        "ones_array = np.ones_like(original_array)\n",
        "print(ones_array)"
      ],
      "metadata": {
        "id": "2kWkyOvBeBTX",
        "colab": {
          "base_uri": "https://localhost:8080/"
        },
        "outputId": "7d573aa6-bf36-4467-f4cf-f118239fc46c"
      },
      "execution_count": null,
      "outputs": [
        {
          "output_type": "stream",
          "name": "stdout",
          "text": [
            "[[1 1 1]\n",
            " [1 1 1]]\n"
          ]
        }
      ]
    },
    {
      "cell_type": "code",
      "source": [
        "new_list = [1,2,3,4]\n",
        "numpy_array = np.array(new_list)\n",
        "print(numpy_array)"
      ],
      "metadata": {
        "colab": {
          "base_uri": "https://localhost:8080/"
        },
        "id": "9O87vlIB-Mor",
        "outputId": "70d31a3f-bc3f-4d58-caeb-f4b95a9d9861"
      },
      "execution_count": null,
      "outputs": [
        {
          "output_type": "stream",
          "name": "stdout",
          "text": [
            "[1 2 3 4]\n"
          ]
        }
      ]
    },
    {
      "cell_type": "markdown",
      "source": [
        "problem:2"
      ],
      "metadata": {
        "id": "Zb78NdcK-jwG"
      }
    },
    {
      "cell_type": "code",
      "source": [
        "import numpy as np\n",
        "array_range = np.arange(10,50)\n",
        "print(array_range)"
      ],
      "metadata": {
        "colab": {
          "base_uri": "https://localhost:8080/"
        },
        "id": "-X5xJmw2-mOx",
        "outputId": "f958b69f-31c1-414b-d0a6-9e3001e9293c"
      },
      "execution_count": null,
      "outputs": [
        {
          "output_type": "stream",
          "name": "stdout",
          "text": [
            "[10 11 12 13 14 15 16 17 18 19 20 21 22 23 24 25 26 27 28 29 30 31 32 33\n",
            " 34 35 36 37 38 39 40 41 42 43 44 45 46 47 48 49]\n"
          ]
        }
      ]
    },
    {
      "cell_type": "code",
      "source": [
        "array_1d = np.arange(9)\n",
        "matrix_3x3 = array_1d.reshape((3, 3))\n",
        "print(matrix_3x3)"
      ],
      "metadata": {
        "colab": {
          "base_uri": "https://localhost:8080/"
        },
        "id": "6h_-6sst_Aie",
        "outputId": "de60a5cc-847d-48e8-8634-997f2c232d1f"
      },
      "execution_count": null,
      "outputs": [
        {
          "output_type": "stream",
          "name": "stdout",
          "text": [
            "[[0 1 2]\n",
            " [3 4 5]\n",
            " [6 7 8]]\n"
          ]
        }
      ]
    },
    {
      "cell_type": "code",
      "source": [
        "identity_matrix = np.eye(3)\n",
        "print(identity_matrix)"
      ],
      "metadata": {
        "colab": {
          "base_uri": "https://localhost:8080/"
        },
        "id": "U9TAW4ol_CNR",
        "outputId": "552c8341-fb50-421e-ecd7-f8fd21713e6d"
      },
      "execution_count": null,
      "outputs": [
        {
          "output_type": "stream",
          "name": "stdout",
          "text": [
            "[[1. 0. 0.]\n",
            " [0. 1. 0.]\n",
            " [0. 0. 1.]]\n"
          ]
        }
      ]
    },
    {
      "cell_type": "code",
      "source": [
        "import numpy as np\n",
        "random_array = np.random.random(30)\n",
        "mean_value = random_array.mean()\n",
        "print(mean_value)"
      ],
      "metadata": {
        "colab": {
          "base_uri": "https://localhost:8080/"
        },
        "id": "U3dmfVx2_Res",
        "outputId": "d649b4a3-413b-41e4-8152-0b128ab82384"
      },
      "execution_count": null,
      "outputs": [
        {
          "output_type": "stream",
          "name": "stdout",
          "text": [
            "0.45704389172524923\n"
          ]
        }
      ]
    },
    {
      "cell_type": "code",
      "source": [
        "random_array = np.random.rand(10, 10)\n",
        "min_value = random_array.min()\n",
        "max_value = random_array.max()\n",
        "print(min_value, max_value)"
      ],
      "metadata": {
        "colab": {
          "base_uri": "https://localhost:8080/"
        },
        "id": "fLp1b7ZW_WZj",
        "outputId": "791c3541-87a0-4ee7-f4a6-9808874ee74d"
      },
      "execution_count": null,
      "outputs": [
        {
          "output_type": "stream",
          "name": "stdout",
          "text": [
            "0.017477283233742757 0.9995452520689551\n"
          ]
        }
      ]
    },
    {
      "cell_type": "code",
      "source": [
        "zeros_array = np.zeros(10)\n",
        "zeros_array[4] = 1\n",
        "print(zeros_array)"
      ],
      "metadata": {
        "colab": {
          "base_uri": "https://localhost:8080/"
        },
        "id": "RBric6eL_ayj",
        "outputId": "925a0623-cfbf-49e7-df81-55a7a4c51b05"
      },
      "execution_count": null,
      "outputs": [
        {
          "output_type": "stream",
          "name": "stdout",
          "text": [
            "[0. 0. 0. 0. 1. 0. 0. 0. 0. 0.]\n"
          ]
        }
      ]
    },
    {
      "cell_type": "code",
      "source": [
        "arr = np.array([1, 2, 0, 0, 4, 0])\n",
        "reversed_arr = arr[::-1]\n",
        "print(reversed_arr)"
      ],
      "metadata": {
        "colab": {
          "base_uri": "https://localhost:8080/"
        },
        "id": "MYDV0oX6_zQC",
        "outputId": "df4e2285-3dc1-4147-b8cc-8df70447975f"
      },
      "execution_count": null,
      "outputs": [
        {
          "output_type": "stream",
          "name": "stdout",
          "text": [
            "[0 4 0 0 2 1]\n"
          ]
        }
      ]
    },
    {
      "cell_type": "code",
      "source": [
        "shape = (5,5)\n",
        "array_2d = np.ones(shape, dtype=int)\n",
        "array_2d[1:-1, 1:-1] = 0\n",
        "print(array_2d)"
      ],
      "metadata": {
        "colab": {
          "base_uri": "https://localhost:8080/"
        },
        "id": "y-V2YqXp_07r",
        "outputId": "63075355-14d3-4d9e-94f6-f3bdfc34e229"
      },
      "execution_count": null,
      "outputs": [
        {
          "output_type": "stream",
          "name": "stdout",
          "text": [
            "[[1 1 1 1 1]\n",
            " [1 0 0 0 1]\n",
            " [1 0 0 0 1]\n",
            " [1 0 0 0 1]\n",
            " [1 1 1 1 1]]\n"
          ]
        }
      ]
    },
    {
      "cell_type": "code",
      "source": [
        "checkerboard = np.zeros((8,8), dtype=int)\n",
        "checkerboard[1::2, ::2] = 1\n",
        "checkerboard[::2, 1::2] = 1\n",
        "print(checkerboard)"
      ],
      "metadata": {
        "colab": {
          "base_uri": "https://localhost:8080/"
        },
        "id": "F9fRNK8Y_96u",
        "outputId": "701511de-75c1-4f8c-a71c-a8a2bc3a2a4b"
      },
      "execution_count": null,
      "outputs": [
        {
          "output_type": "stream",
          "name": "stdout",
          "text": [
            "[[0 1 0 1 0 1 0 1]\n",
            " [1 0 1 0 1 0 1 0]\n",
            " [0 1 0 1 0 1 0 1]\n",
            " [1 0 1 0 1 0 1 0]\n",
            " [0 1 0 1 0 1 0 1]\n",
            " [1 0 1 0 1 0 1 0]\n",
            " [0 1 0 1 0 1 0 1]\n",
            " [1 0 1 0 1 0 1 0]]\n"
          ]
        }
      ]
    },
    {
      "cell_type": "markdown",
      "source": [
        "Problem :3\n"
      ],
      "metadata": {
        "id": "ve9zR0pRC6YP"
      }
    },
    {
      "cell_type": "code",
      "source": [
        "import numpy as np\n",
        "\n",
        "# Define the arrays\n",
        "x = np.array([[1, 2], [3, 5]])\n",
        "y = np.array([[5, 6], [7, 8]])\n",
        "v = np.array([9, 10])\n",
        "w = np.array([11, 12])\n",
        "\n",
        "addition = x + y\n",
        "print(\"Addition:\\n\", addition)\n",
        "\n",
        "subtraction = x - y\n",
        "print(\"Subtraction:\\n\", subtraction)\n",
        "\n",
        "multiply_x = x * 2\n",
        "multiply_y = y * 3\n",
        "print(\"x multiplied by 2:\\n\", multiply_x)\n",
        "print(\"y multiplied by 3:\\n\", multiply_y)\n",
        "\n",
        "square_x = np.square(x)\n",
        "square_y = np.square(y)\n",
        "print(\"Square of x:\\n\", square_x)\n",
        "print(\"Square of y:\\n\", square_y)\n",
        "\n",
        "dot_v_w = np.dot(v, w)\n",
        "dot_x_v = np.dot(x, v)\n",
        "dot_x_y = np.dot(x, y)\n",
        "print(\"Dot product of v and w:\", dot_v_w)\n",
        "print(\"Dot product of x and v:\\n\", dot_x_v)\n",
        "print(\"Dot product of x and y:\\n\", dot_x_y)\n",
        "\n",
        "concat_xy = np.concatenate((x, y), axis=0)\n",
        "concat_vw = np.concatenate((v.reshape(-1, 1), w.reshape(-1, 1)), axis=1)\n",
        "print(\"Concatenated x and y:\\n\", concat_xy)\n",
        "print(\"Concatenated v and w:\\n\", concat_vw)\n",
        "\n",
        "try:\n",
        "    concat_xv = np.concatenate((x, v), axis=0)\n",
        "    print(\"Concatenated x and v:\\n\", concat_xv)\n",
        "except ValueError as e:\n",
        "    print(\"Error:\", e)"
      ],
      "metadata": {
        "colab": {
          "base_uri": "https://localhost:8080/"
        },
        "id": "38vLKS-zDAq4",
        "outputId": "403588df-725a-4706-89a0-8334e4fd7963"
      },
      "execution_count": null,
      "outputs": [
        {
          "output_type": "stream",
          "name": "stdout",
          "text": [
            "Addition:\n",
            " [[ 6  8]\n",
            " [10 13]]\n",
            "Subtraction:\n",
            " [[-4 -4]\n",
            " [-4 -3]]\n",
            "x multiplied by 2:\n",
            " [[ 2  4]\n",
            " [ 6 10]]\n",
            "y multiplied by 3:\n",
            " [[15 18]\n",
            " [21 24]]\n",
            "Square of x:\n",
            " [[ 1  4]\n",
            " [ 9 25]]\n",
            "Square of y:\n",
            " [[25 36]\n",
            " [49 64]]\n",
            "Dot product of v and w: 219\n",
            "Dot product of x and v:\n",
            " [29 77]\n",
            "Dot product of x and y:\n",
            " [[19 22]\n",
            " [50 58]]\n",
            "Concatenated x and y:\n",
            " [[1 2]\n",
            " [3 5]\n",
            " [5 6]\n",
            " [7 8]]\n",
            "Concatenated v and w:\n",
            " [[ 9 11]\n",
            " [10 12]]\n",
            "Error: all the input arrays must have same number of dimensions, but the array at index 0 has 2 dimension(s) and the array at index 1 has 1 dimension(s)\n"
          ]
        }
      ]
    },
    {
      "cell_type": "markdown",
      "source": [
        "problem :4\n"
      ],
      "metadata": {
        "id": "s1QPRdUQAUAb"
      }
    },
    {
      "cell_type": "code",
      "source": [
        "import numpy as np\n",
        "\n",
        "A = np.array([[3,4], [7,8]])\n",
        "A_inv = np.linalg.inv(A)\n",
        "I = np.dot(A, A_inv)\n",
        "print(I)"
      ],
      "metadata": {
        "colab": {
          "base_uri": "https://localhost:8080/"
        },
        "id": "i0PaI3mTAWcT",
        "outputId": "599a449c-19f9-403e-d05a-5f52e3751f8a"
      },
      "execution_count": null,
      "outputs": [
        {
          "output_type": "stream",
          "name": "stdout",
          "text": [
            "[[1.00000000e+00 0.00000000e+00]\n",
            " [1.77635684e-15 1.00000000e+00]]\n"
          ]
        }
      ]
    },
    {
      "cell_type": "code",
      "source": [
        "A = np.array([[3, 4], [7, 8]])\n",
        "B = np.array([[5, 3], [2, 1]])\n",
        "\n",
        "AB = np.dot(A, B)\n",
        "BA = np.dot(B, A)\n",
        "\n",
        "print(AB)\n",
        "print(BA)"
      ],
      "metadata": {
        "colab": {
          "base_uri": "https://localhost:8080/"
        },
        "id": "ltw43e1uAZo7",
        "outputId": "d3ef9f97-515c-434b-dee6-c4927a839899"
      },
      "execution_count": null,
      "outputs": [
        {
          "output_type": "stream",
          "name": "stdout",
          "text": [
            "[[23 13]\n",
            " [51 29]]\n",
            "[[36 44]\n",
            " [13 16]]\n"
          ]
        }
      ]
    },
    {
      "cell_type": "code",
      "source": [
        "A = np.array([[3, 4], [7, 8]])\n",
        "B = np.array([[5, 3], [2, 1]])\n",
        "\n",
        "AB = np.dot(A, B)\n",
        "AB_T = AB.T\n",
        "\n",
        "B_T = B.T\n",
        "A_T = A.T\n",
        "BT_AT = np.dot(B_T, A_T)\n",
        "\n",
        "print(AB_T)\n",
        "print(BT_AT)"
      ],
      "metadata": {
        "colab": {
          "base_uri": "https://localhost:8080/"
        },
        "id": "rz52U-QEAeXc",
        "outputId": "f34dd78b-0044-44e8-c5ab-c487931e7fcb"
      },
      "execution_count": null,
      "outputs": [
        {
          "output_type": "stream",
          "name": "stdout",
          "text": [
            "[[23 51]\n",
            " [13 29]]\n",
            "[[23 51]\n",
            " [13 29]]\n"
          ]
        }
      ]
    },
    {
      "cell_type": "code",
      "source": [
        "A = np.array([[2, -3, 1], [1, -1, 2], [3, 1, -1]])\n",
        "b = np.array([-1, -3, 9])\n",
        "\n",
        "A_inv = np.linalg.inv(A)\n",
        "x = np.dot(A_inv, b)\n",
        "print(x)"
      ],
      "metadata": {
        "colab": {
          "base_uri": "https://localhost:8080/"
        },
        "id": "FdeIsYekAicC",
        "outputId": "d3940bcc-6433-4936-8b32-545efcdaba5a"
      },
      "execution_count": null,
      "outputs": [
        {
          "output_type": "stream",
          "name": "stdout",
          "text": [
            "[ 2.  1. -2.]\n"
          ]
        }
      ]
    },
    {
      "cell_type": "code",
      "source": [
        "import numpy as np\n",
        "\n",
        "A = np.array([[2, -3, 1],\n",
        "              [1, -1, 2],\n",
        "              [3, 1, -1]])\n",
        "\n",
        "B = np.array([-1, -3, 9])\n",
        "\n",
        "A_inv = np.linalg.inv(A)\n",
        "\n",
        "X = np.dot(A_inv, B)\n",
        "\n",
        "print(X)\n",
        "\n"
      ],
      "metadata": {
        "id": "lYC6hESPAlrr",
        "outputId": "136631fa-8c60-4a2b-90df-8365082b22c4",
        "colab": {
          "base_uri": "https://localhost:8080/"
        }
      },
      "execution_count": null,
      "outputs": [
        {
          "output_type": "stream",
          "name": "stdout",
          "text": [
            "[ 2.  1. -2.]\n"
          ]
        }
      ]
    },
    {
      "cell_type": "markdown",
      "source": [
        "Experiment"
      ],
      "metadata": {
        "id": "ypegiEqnFVNS"
      }
    },
    {
      "cell_type": "code",
      "source": [
        "import numpy as np\n",
        "import time\n",
        "\n",
        "size = 1_000_000\n",
        "matrix = 1000\n",
        "\n",
        "list_a = list(range(size))\n",
        "list_b = list(range(size))\n",
        "\n",
        "start_time = time.time()\n",
        "list_sum = [a + b for a, b in zip(list_a, list_b)]\n",
        "add = time.time() - start_time\n",
        "print(f\"Python List Element-wise Addition Time: {add:.5f} seconds\")\n"
      ],
      "metadata": {
        "colab": {
          "base_uri": "https://localhost:8080/"
        },
        "id": "nQlyGIsoFZc1",
        "outputId": "c79c839d-851f-443b-a11d-14ab5131d071"
      },
      "execution_count": null,
      "outputs": [
        {
          "output_type": "stream",
          "name": "stdout",
          "text": [
            "Python List Element-wise Addition Time: 0.19647 seconds\n"
          ]
        }
      ]
    },
    {
      "cell_type": "code",
      "source": [
        "np_a = np.array(list_a)\n",
        "np_b = np.array(list_b)\n",
        "start_time = time.time()\n",
        "np_sum = np_a + np_b\n",
        "np_add = time.time() - start_time\n",
        "print(f\"NumPy Array Element-wise Addition Time: {np_add:.5f} seconds\")\n"
      ],
      "metadata": {
        "colab": {
          "base_uri": "https://localhost:8080/"
        },
        "id": "O5zDm2mJF4-d",
        "outputId": "4b84eb71-d50a-4371-d583-4069730f199d"
      },
      "execution_count": null,
      "outputs": [
        {
          "output_type": "stream",
          "name": "stdout",
          "text": [
            "NumPy Array Element-wise Addition Time: 0.00476 seconds\n"
          ]
        }
      ]
    },
    {
      "cell_type": "markdown",
      "source": [
        "Element-wise Multiplication"
      ],
      "metadata": {
        "id": "OOQN9sJ4GC67"
      }
    },
    {
      "cell_type": "code",
      "source": [
        "start_time = time.time()\n",
        "list_product = [a * b for a, b in zip(list_a, list_b)]\n",
        "mul = time.time() - start_time\n",
        "print(f\"Python List Element-wise Multiplication Time: {mul:.5f} seconds\")\n",
        "\n"
      ],
      "metadata": {
        "colab": {
          "base_uri": "https://localhost:8080/"
        },
        "id": "O456cGbOGLTq",
        "outputId": "e18b9f5b-93c9-41ae-fd6f-60c06a1edbc9"
      },
      "execution_count": null,
      "outputs": [
        {
          "output_type": "stream",
          "name": "stdout",
          "text": [
            "Python List Element-wise Multiplication Time: 0.10540 seconds\n"
          ]
        }
      ]
    },
    {
      "cell_type": "code",
      "source": [
        "start_time = time.time()\n",
        "np_product = np_a * np_b\n",
        "np_mul = time.time() - start_time\n",
        "print(f\"NumPy Array Element-wise Multiplication Time: {np_mul:.5f} seconds\")\n"
      ],
      "metadata": {
        "colab": {
          "base_uri": "https://localhost:8080/"
        },
        "id": "dFRbj6TvGUS9",
        "outputId": "02a14af5-5707-4f63-e39f-b94baee7a1c9"
      },
      "execution_count": null,
      "outputs": [
        {
          "output_type": "stream",
          "name": "stdout",
          "text": [
            "NumPy Array Element-wise Multiplication Time: 0.00315 seconds\n"
          ]
        }
      ]
    },
    {
      "cell_type": "markdown",
      "source": [
        "Dot Product"
      ],
      "metadata": {
        "id": "gs-5RQJMGfz7"
      }
    },
    {
      "cell_type": "code",
      "source": [
        "start_time = time.time()\n",
        "dot_product = sum(a * b for a, b in zip(list_a, list_b))\n",
        "dot = time.time() - start_time\n",
        "print(f\"Python List Dot Product Time: {dot:.5f} seconds\")\n"
      ],
      "metadata": {
        "colab": {
          "base_uri": "https://localhost:8080/"
        },
        "id": "VpEcnhjhGhdq",
        "outputId": "abb5902d-c927-435b-d27b-4c4ab68e97e2"
      },
      "execution_count": null,
      "outputs": [
        {
          "output_type": "stream",
          "name": "stdout",
          "text": [
            "Python List Dot Product Time: 0.20858 seconds\n"
          ]
        }
      ]
    },
    {
      "cell_type": "code",
      "source": [
        "start_time = time.time()\n",
        "np_dot_product = np.dot(np_a, np_b)\n",
        "np_dot = time.time() - start_time\n",
        "print(f\"NumPy Array Dot Product Time: {np_dot:.5f} seconds\")\n",
        "\n"
      ],
      "metadata": {
        "colab": {
          "base_uri": "https://localhost:8080/"
        },
        "id": "qGoWedt6GnzV",
        "outputId": "f42e72c0-b0d9-45c6-c967-00946c2efe0d"
      },
      "execution_count": null,
      "outputs": [
        {
          "output_type": "stream",
          "name": "stdout",
          "text": [
            "NumPy Array Dot Product Time: 0.00401 seconds\n"
          ]
        }
      ]
    },
    {
      "cell_type": "markdown",
      "source": [
        "Matrix Multiplication"
      ],
      "metadata": {
        "id": "stiv03Y_GyhY"
      }
    },
    {
      "cell_type": "code",
      "source": [
        "start_time = time.time()\n",
        "mat_mul= time.time() - start_time\n",
        "print(f\"Python List Matrix Multiplication Time: {mat_mul:.5f} seconds\")\n",
        "\n",
        "matrix_a = np.random.rand(matrix, matrix)\n",
        "matrix_b = np.random.rand(matrix, matrix)\n",
        "\n",
        "\n",
        "start_time = time.time()\n",
        "np_result = np.dot(matrix_a, matrix_b)\n",
        "np_matrix = time.time() - start_time\n",
        "print(f\"NumPy Array Matrix Multiplication Time: {np_matrix:.5f} seconds\")"
      ],
      "metadata": {
        "id": "2M9cJrHOKAH0",
        "colab": {
          "base_uri": "https://localhost:8080/"
        },
        "outputId": "cab91a0f-66d4-4045-8667-5942afcb7a09"
      },
      "execution_count": 38,
      "outputs": [
        {
          "output_type": "stream",
          "name": "stdout",
          "text": [
            "Python List Matrix Multiplication Time: 0.00006 seconds\n",
            "NumPy Array Matrix Multiplication Time: 0.07060 seconds\n"
          ]
        }
      ]
    }
  ]
}